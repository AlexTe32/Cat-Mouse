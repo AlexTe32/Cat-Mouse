{
 "cells": [
  {
   "metadata": {},
   "cell_type": "markdown",
   "source": [
    "# Cat & Mouse\n",
    "\n",
    "### Q: 3 мачки фаќаат 3 глувци за 3 мин. За колку време ќе се фатат 100 глувци?\n",
    "\n",
    "Ова прашњае на прв поглед изгледа лесно и користјчи алгебра моземе да стигнеме до одговор од 100 мин.\n",
    "Но прашањето е дали преку симулација можеме да го докжеме тоа?\n",
    "\n",
    "Некој услови за ова симулација ни се:\n",
    "- NxP праваголно поле\n",
    "- Секое животно фаќа една ќелија\n",
    "- Иницијално случајно распоредени\n",
    "- Едно движење трае една секунда\n",
    "- Дефиниција на фаќање – мачка и глушец во иста ќелија\n",
    "\n",
    "Спорд овје ограницуванја ние треба да создадеме симулација каде 3 мачки фаќаат 3 глувци за 3 мин.\n",
    "Потребно е да ги подесиме цледните параметри за да го добиеме посакуваниот резултат:\n",
    "- N и P\n",
    "- Брзина на глувци\n",
    "- Брзина на мачки\n",
    "- Стратегии за фаќање глувци\n",
    "- Стратегии за бегање од мачки\n",
    "\n",
    "Најтешкиот дел за програмирање и подоцна менување се стратегиите, така да:\n",
    "- Глувците немат стратегија и се двизат случајно\n",
    "- Додека мачките секогаш го бркат најблискиот глушец\n",
    "(Ова е вака затаоа како студенти од прва година не баш добро се разбираме во алгоритми)\n",
    "\n",
    "Што значи ни престанува:\n",
    "- Голеемина\n",
    "- Брзина на глувци\n",
    "- Брзиан на Мачки\n",
    "\n",
    "За глувците да имат шанси потребно е мацките да бидат поспори од нив.\n",
    "Во овој случај Брзина на Глушец = 3 * Брзиан на Мачка\n",
    "(Од току зависи и големинта што после ќе ни биде потрбна)\n",
    "\n",
    "Потоа прку изпробување моземе да ја најеџме потребната големина.\n",
    "Во овој слуачај 56\n",
    "\n"
   ],
   "id": "be22effaaf8640c6"
  },
  {
   "metadata": {
    "ExecuteTime": {
     "end_time": "2025-05-07T06:33:31.218923Z",
     "start_time": "2025-05-07T06:33:22.119692Z"
    }
   },
   "cell_type": "code",
   "source": [
    "from Simulation import run_simulation\n",
    "\n",
    "NUM_CATS=3\n",
    "NUM_MICE=3\n",
    "\n",
    "run_simulation(N=56, P=56, num_cats=NUM_CATS, num_mice=NUM_MICE, num_obstacles=155, wait_time=1)\n"
   ],
   "id": "dd2a7f6d27f9f31b",
   "outputs": [
    {
     "ename": "SystemExit",
     "evalue": "",
     "output_type": "error",
     "traceback": [
      "An exception has occurred, use %tb to see the full traceback.\n",
      "\u001B[1;31mSystemExit\u001B[0m\n"
     ]
    },
    {
     "name": "stderr",
     "output_type": "stream",
     "text": [
      "C:\\Users\\royal\\AppData\\Local\\Programs\\Python\\Python39\\lib\\site-packages\\IPython\\core\\interactiveshell.py:3558: UserWarning: To exit: use 'exit', 'quit', or Ctrl-D.\n",
      "  warn(\"To exit: use 'exit', 'quit', or Ctrl-D.\", stacklevel=1)\n"
     ]
    }
   ],
   "execution_count": 3
  },
  {
   "metadata": {},
   "cell_type": "markdown",
   "source": [
    "Поради случајната расподелба на мачки и глувци неможеме да добиеме конкретни резулати поради големата варијација.\n",
    "Затоа можеме да извршиме поголем број на симулација и да го земеме просечното време"
   ],
   "id": "766423c4e84bfea7"
  },
  {
   "metadata": {},
   "cell_type": "code",
   "source": [
    "from Simulation import run_simulation\n",
    "\n",
    "NUM_CATS=3\n",
    "NUM_MICE=3\n",
    "\n",
    "number_of_runs=10\n",
    "sum_of_turns=0\n",
    "for x in range(number_of_runs):\n",
    "    turns=run_simulation(N=56, P=56, num_cats=NUM_CATS, num_mice=NUM_MICE, num_obstacles=155, wait_time=0)\n",
    "    sum_of_turns += turns\n",
    "    print(f\"run {x} time in seconds {turns}\")\n",
    "print(f\"Avrage time {sum_of_turns / number_of_runs}\")"
   ],
   "id": "ad9679719178dea0",
   "outputs": [
    {
     "ename": "SyntaxError",
     "evalue": "invalid syntax (3191658853.py, line 3)",
     "output_type": "error",
     "traceback": [
      "\u001B[1;36m  Cell \u001B[1;32mIn[1], line 3\u001B[1;36m\u001B[0m\n\u001B[1;33m    NUM_CATS=3р\u001B[0m\n\u001B[1;37m              ^\u001B[0m\n\u001B[1;31mSyntaxError\u001B[0m\u001B[1;31m:\u001B[0m invalid syntax\n"
     ]
    }
   ],
   "execution_count": 1
  },
  {
   "metadata": {},
   "cell_type": "markdown",
   "source": [
    "Со изработка на 10000 симулација и наочање на нивниот просек добиваме резултат од 184 секунди ли 3 мин и 4 сек.\n",
    "[Резулатаи од 3 Мачки и 3 Глувци](3-cats-3-mice.pdf)\n",
    "\n",
    "\n",
    "Откако знаме дека нашата калибрација е во корисна состојба може да ранаме симулација со 100 глувци."
   ],
   "id": "d76cc21257601e04"
  },
  {
   "metadata": {
    "ExecuteTime": {
     "end_time": "2025-05-06T18:40:00.382496Z",
     "start_time": "2025-05-06T18:37:18.493842Z"
    }
   },
   "cell_type": "code",
   "source": [
    "from Simulation import run_simulation\n",
    "\n",
    "NUM_CATS=3\n",
    "NUM_MICE=100\n",
    "\n",
    "run_simulation(N=56, P=56, num_cats=NUM_CATS, num_mice=NUM_MICE, num_obstacles=155, wait_time=0)\n"
   ],
   "id": "455de2879bcd3734",
   "outputs": [
    {
     "name": "stdout",
     "output_type": "stream",
     "text": [
      "pygame 2.6.1 (SDL 2.28.4, Python 3.9.0)\n",
      "Hello from the pygame community. https://www.pygame.org/contribute.html\n"
     ]
    },
    {
     "data": {
      "text/plain": [
       "1524"
      ]
     },
     "execution_count": 1,
     "metadata": {},
     "output_type": "execute_result"
    }
   ],
   "execution_count": 1
  },
  {
   "metadata": {},
   "cell_type": "markdown",
   "source": [
    "Исто како кај случајот со 3 глувци треба да ја извршиме симулацијата голема број на пати.\n",
    "Во овој слуцај добиваме дека резултато е приближно 1389 секунди или 23 мин и 9 сек.\n",
    "[Резулатаи од 3 Мачки и 100 Глувци](3-cats-100-mice.pdf)"
   ],
   "id": "133bc47dc3502378"
  },
  {
   "metadata": {},
   "cell_type": "code",
   "source": [
    "from Simulation import run_simulation\n",
    "\n",
    "NUM_CATS=3\n",
    "NUM_MICE=100\n",
    "\n",
    "number_of_runs=10\n",
    "sum_of_turns=0\n",
    "for x in range(number_of_runs):\n",
    "    turns=run_simulation(N=56, P=56, num_cats=NUM_CATS, num_mice=NUM_MICE, num_obstacles=155, wait_time=0)\n",
    "    sum_of_turns += turns\n",
    "    print(f\"run {x} time in seconds {turns}\")\n",
    "print(f\"Avrage time {sum_of_turns / number_of_runs}\")"
   ],
   "id": "ded4feca13c850a",
   "outputs": [],
   "execution_count": null
  },
  {
   "metadata": {},
   "cell_type": "markdown",
   "source": [
    "## Симулација\n",
    "\n",
    "\n",
    "Наредното е главниот код кој во суштина ги изработува симулацијите\n",
    "(Не е препорачано до го ранате)"
   ],
   "id": "2ddf06da4a849bfa"
  },
  {
   "metadata": {},
   "cell_type": "code",
   "outputs": [],
   "source": [
    "import pygame\n",
    "import sys\n",
    "import random\n",
    "import time\n",
    "from Cat import Cat\n",
    "from Mouse import Mouse\n",
    "\n",
    "# Самата симулација е дефинирана како функција\n",
    "# Функцијата го прима бројот на мачки и глувци, големината, број на препреки, и време помеќу циклуси\n",
    "def run_simulation(N=80, P=80, num_cats=3, num_mice=3, num_obstacles=150, wait_time=0):\n",
    "    # Се дефинира големината на целија и големината на прозорецот\n",
    "    CELL_SIZE = 10\n",
    "    WIDTH, HEIGHT = P * CELL_SIZE, N * CELL_SIZE\n",
    "\n",
    "    # Се дефинират разлицни бои за различни променливи\n",
    "    WHITE = (255, 255, 255)\n",
    "    GRAY = (200, 200, 200)\n",
    "    CAT_COLOR = (255, 100, 100)\n",
    "    MOUSE_COLOR = (100, 100, 255)\n",
    "    TEXT_COLOR = (0, 0, 0)\n",
    "    WIN_COLOR = (0, 200, 0)\n",
    "\n",
    "    # Иницијализирај pygame\n",
    "    # Користиме pygame за да ни го олесни симулацијата и визулацијата\n",
    "    screen = pygame.display.set_mode((WIDTH, HEIGHT + 40))\n",
    "    pygame.display.set_caption(\"Cat and Mouse\")\n",
    "    clock = pygame.time.Clock()\n",
    "    font = pygame.font.SysFont(None, 30)\n",
    "\n",
    "    # Иницилизираме низи за Мачките, Глувците и Препреките\n",
    "    cats = []\n",
    "    mice = []\n",
    "    occupied = set()\n",
    "    obstacles = set()\n",
    "\n",
    "    # Ги поставуваме сите елементи на случајни места и ги додаваме во содветните низи\n",
    "    for _ in range(num_cats):\n",
    "        while True:\n",
    "            r, c = random.randint(0, N - 1), random.randint(0, P - 1)\n",
    "            if (r, c) not in occupied:\n",
    "                cats.append(Cat(r, c))\n",
    "                occupied.add((r, c))\n",
    "                break\n",
    "\n",
    "    for _ in range(num_mice):\n",
    "        while True:\n",
    "            r, c = random.randint(0, N - 1), random.randint(0, P - 1)\n",
    "            if (r, c) not in occupied:\n",
    "                mice.append(Mouse(r, c))\n",
    "                occupied.add((r, c))\n",
    "                break\n",
    "\n",
    "    while len(obstacles) < num_obstacles:\n",
    "        r, c = random.randint(0, N - 1), random.randint(0, P - 1)\n",
    "        if (r, c) not in occupied:\n",
    "            obstacles.add((r, c))\n",
    "            occupied.add((r, c))\n",
    "\n",
    "    # Бидејчи секое движење е една секунда ги броиме потребните циклуси\n",
    "    turns = 0\n",
    "\n",
    "    # Дефинираме функцији за визуализација на елементите\n",
    "    def draw_grid():\n",
    "        for row in range(N):\n",
    "            for col in range(P):\n",
    "                rect = pygame.Rect(col * CELL_SIZE, row * CELL_SIZE, CELL_SIZE, CELL_SIZE)\n",
    "                pygame.draw.rect(screen, GRAY, rect, 1)\n",
    "\n",
    "    def draw_objects():\n",
    "        for cat in cats:\n",
    "            row, col = cat.get_position()\n",
    "            rect = pygame.Rect(col * CELL_SIZE, row * CELL_SIZE, CELL_SIZE, CELL_SIZE)\n",
    "            pygame.draw.rect(screen, CAT_COLOR, rect)\n",
    "\n",
    "        for mouse in mice:\n",
    "            row, col = mouse.get_position()\n",
    "            rect = pygame.Rect(col * CELL_SIZE, row * CELL_SIZE, CELL_SIZE, CELL_SIZE)\n",
    "            pygame.draw.rect(screen, MOUSE_COLOR, rect)\n",
    "\n",
    "        for (row, col) in obstacles:\n",
    "            rect = pygame.Rect(col * CELL_SIZE, row * CELL_SIZE, CELL_SIZE, CELL_SIZE)\n",
    "            pygame.draw.rect(screen, (50, 50, 50), rect)\n",
    "\n",
    "    def draw_turn_count():\n",
    "        text = font.render(f\"Turn: {turns}\", True, TEXT_COLOR)\n",
    "        screen.blit(text, (10, HEIGHT + 10))\n",
    "\n",
    "    # Ова е главниот луп на симулацијата\n",
    "    while True:\n",
    "        screen.fill(WHITE)\n",
    "        draw_grid()\n",
    "        draw_objects()\n",
    "        draw_turn_count()\n",
    "\n",
    "        pygame.display.flip()\n",
    "\n",
    "        # Се цека крај на симулацијата за да се затвори прозорот\n",
    "        for event in pygame.event.get():\n",
    "            if event.type == pygame.QUIT:\n",
    "                pygame.quit()\n",
    "                sys.exit()\n",
    "\n",
    "        # Цекање помеѓу циклуси\n",
    "        time.sleep(wait_time/5000)\n",
    "\n",
    "        # Мачикете се движат на секој 3 циклус кон најблискиут Глушеч\n",
    "        #( Повеќе објацнување кај Мачките)\n",
    "        if (turns % 3) == 0:\n",
    "            new_cat_positions = set()\n",
    "            for cat in cats:\n",
    "                others = new_cat_positions | {c.get_position() for c in cats if c != cat}\n",
    "                cat.move_toward_mouse(mice, N, P, obstacles, others)\n",
    "                new_cat_positions.add(cat.get_position())\n",
    "\n",
    "        # Проверка дали некој глушец дели позиција со Мачка, и него отстранување\n",
    "        cat_positions = {cat.get_position() for cat in cats}\n",
    "        mice = [m for m in mice if m.get_position() not in cat_positions]\n",
    "\n",
    "        # Движење на глувците\n",
    "        new_mouse_positions = set()\n",
    "        for mouse in mice:\n",
    "            others = new_mouse_positions | {m.get_position() for m in mice if m != mouse}\n",
    "            mouse.move_random(N, P, obstacles, others)\n",
    "            new_mouse_positions.add(mouse.get_position())\n",
    "\n",
    "        cat_positions = {cat.get_position() for cat in cats}\n",
    "        mice = [m for m in mice if m.get_position() not in cat_positions]\n",
    "\n",
    "        # Инкрементација на циклуси\n",
    "        turns += 1\n",
    "\n",
    "        # Проверка дали сеуште има глувци, ако нема се врача бројот на циклуси\n",
    "        if not mice or turns>12000:\n",
    "            pygame.display.flip()\n",
    "            time.sleep(wait_time)\n",
    "            pygame.quit()\n",
    "            return turns\n",
    "\n",
    "        clock.tick(10)\n"
   ],
   "id": "eb6c89cdf5d28a0f",
   "execution_count": null
  },
  {
   "metadata": {},
   "cell_type": "markdown",
   "source": [
    "## Глушец\n",
    "\n",
    "Ќе почнемо со објаснување на кодот за Глушецот. Глувците се движзат случајно, ова е наједноставното решение за глувците"
   ],
   "id": "35ef21b7ad11f5da"
  },
  {
   "metadata": {},
   "cell_type": "code",
   "outputs": [],
   "execution_count": null,
   "source": [
    "import random\n",
    "class Mouse:\n",
    "    # Иницализација на Глушецот\n",
    "    def __init__(self, row, col):\n",
    "        self.row = row\n",
    "        self.col = col\n",
    "\n",
    "    def get_position(self):\n",
    "        return self.row, self.col\n",
    "\n",
    "    def move_random(self, max_rows, max_cols, obstacles=set(), occupied=set()):\n",
    "        # Глушецот пробува да најде случајна позиција на која може да се помести\n",
    "        # Ако прват позиција не е слободна ќе продолжи да тражи додека ненајде\n",
    "        tried = set()\n",
    "        while len(tried) < 4:\n",
    "            direction = random.randint(0, 3)\n",
    "            if direction in tried:\n",
    "                continue\n",
    "            tried.add(direction)\n",
    "\n",
    "            new_r, new_c = self.row, self.col\n",
    "            if direction == 0 and self.row > 0:\n",
    "                new_r -= 1\n",
    "            elif direction == 1 and self.row < max_rows - 1:\n",
    "                new_r += 1\n",
    "            elif direction == 2 and self.col > 0:\n",
    "                new_c -= 1\n",
    "            elif direction == 3 and self.col < max_cols - 1:\n",
    "                new_c += 1\n",
    "\n",
    "            # Кога ќе најде слободна позиција се поместува на неаА\n",
    "            if (new_r, new_c) not in obstacles and (new_r, new_c) not in occupied:\n",
    "                self.row, self.col = new_r, new_c\n",
    "                break\n"
   ],
   "id": "860a310566017096"
  },
  {
   "metadata": {},
   "cell_type": "markdown",
   "source": [
    "## Мачка\n",
    "\n",
    "Кодот за мачките е малку покомплициран од тој од Глувците. Мачките секогаш го бркат најблискиот глушец, ова е стратгијата на мацките поради едноставноста на програмирање."
   ],
   "id": "854b7f7826b99c5c"
  },
  {
   "metadata": {},
   "cell_type": "code",
   "outputs": [],
   "execution_count": null,
   "source": [
    "from pathfinding import a_star, manhattan\n",
    "\n",
    "class Cat:\n",
    "    # Иницализација на Мачка\n",
    "    def __init__(self, row, col):\n",
    "        self.row = row\n",
    "        self.col = col\n",
    "\n",
    "\n",
    "    def get_position(self):\n",
    "        return self.row, self.col\n",
    "\n",
    "    def move_toward_mouse(self, mice, grid_rows, grid_cols, obstacles=set(), occupied=set()):\n",
    "        if not mice:\n",
    "            return\n",
    "\n",
    "        my_pos = self.get_position()\n",
    "\n",
    "        # Мачката го наоча најблискит Глушец\n",
    "        nearest = min(mice, key=lambda m: manhattan(my_pos, m.get_position()))\n",
    "        target_pos = nearest.get_position()\n",
    "\n",
    "        # Го наоча патот до најблискиот Глушец\n",
    "        path = a_star(my_pos, target_pos, grid_rows, grid_cols, obstacles | occupied)\n",
    "\n",
    "        # Се движи кон најблискиот Глушец ако патот е слободен\n",
    "        if path and path[0] not in occupied:\n",
    "            self.row, self.col = path[0]\n"
   ],
   "id": "1aeeeb9e08b5c5d"
  },
  {
   "metadata": {},
   "cell_type": "markdown",
   "source": [
    "### Пронаоѓање на пат\n",
    "\n",
    "Штом Мачките секогаш го бркат најблискиот глушец ни треба неговата локација и најкраткиот пат до него."
   ],
   "id": "196abd47852bf352"
  },
  {
   "metadata": {},
   "cell_type": "code",
   "outputs": [],
   "execution_count": null,
   "source": [
    "import heapq\n",
    "\n",
    "# Ја пресметува дистанцата измечу две цели\n",
    "def manhattan(a, b):\n",
    "    return abs(a[0] - b[0]) + abs(a[1] - b[1])\n",
    "\n",
    "# Користиме А* за да го најдеме најбрзиот пат до Глушецот\n",
    "# ( Искрено го гледав од YouTube па ќе повторим нешто што слушнав)\n",
    "def a_star(start, goal, grid_rows, grid_cols, obstacles=set()):\n",
    "    open_set = []\n",
    "    heapq.heappush(open_set, (0 + manhattan(start, goal), 0, start))\n",
    "    came_from = {}\n",
    "    cost_so_far = {start: 0}\n",
    "\n",
    "    while open_set:\n",
    "        _, cost, current = heapq.heappop(open_set)\n",
    "\n",
    "        # Кога ќе ја најдеме челта го врачаме патот\n",
    "        if current == goal:\n",
    "            path = []\n",
    "            while current != start:\n",
    "                path.append(current)\n",
    "                current = came_from[current]\n",
    "            path.reverse()\n",
    "            return path\n",
    "\n",
    "        # Ги проверува сите цели до моментална целија\n",
    "        for dr, dc in [(-1,0), (1,0), (0,-1), (0,1)]:\n",
    "            neighbor = (current[0] + dr, current[1] + dc)\n",
    "            if 0 <= neighbor[0] < grid_rows and 0 <= neighbor[1] < grid_cols and neighbor not in obstacles:\n",
    "                new_cost = cost + 1\n",
    "                # Пресметува која целија е најблиску до целта и ја се поставува\n",
    "                # Истовремено ја запишува целијата од каде е дојден\n",
    "                if neighbor not in cost_so_far or new_cost < cost_so_far[neighbor]:\n",
    "                    cost_so_far[neighbor] = new_cost\n",
    "                    priority = new_cost + manhattan(neighbor, goal)\n",
    "                    heapq.heappush(open_set, (priority, new_cost, neighbor))\n",
    "                    came_from[neighbor] = current\n",
    "\n",
    "    return []\n"
   ],
   "id": "21842d0234fb0da9"
  },
  {
   "metadata": {},
   "cell_type": "markdown",
   "source": [
    "## Резултаи\n",
    "\n",
    "Како краен чекор за симулацијата ги запишуваме резултатите во Ексел документ"
   ],
   "id": "7cbd129c1d8d1369"
  },
  {
   "metadata": {},
   "cell_type": "code",
   "outputs": [],
   "execution_count": null,
   "source": [
    "from Simulation import run_simulation\n",
    "import openpyxl\n",
    "\n",
    "NUM_MICE=3\n",
    "NUM_CATS=3\n",
    "\n",
    "# Креираме и отвараме нов Ексел фајл\n",
    "wb = openpyxl.Workbook()\n",
    "sheet = wb.active\n",
    "sum=0\n",
    "\n",
    "# Казуваме колку симулацији ни се потребни\n",
    "number_of_runs=10\n",
    "\n",
    "sheet[\"A1\"]=\"Cats:\"\n",
    "sheet[\"B1\"]=\"Mouse:\"\n",
    "sheet[\"C1\"]=\"Time(sec):\"\n",
    "\n",
    "# Ја извршуваме симулацијата одреден број на пати\n",
    "for x in range(number_of_runs):\n",
    "    turns = run_simulation(N=56, P=56, num_cats=NUM_CATS, num_mice=NUM_MICE, num_obstacles=155, wait_time=0)\n",
    "    sum+=turns\n",
    "    print(f\"{x}: Game finished in {turns} turns!\")\n",
    "    # После секоја симулација ги запишуваме резултати\n",
    "    sheet[\"A\"+str((x+2))]=NUM_CATS\n",
    "    sheet[\"B\"+str((x+2))]=NUM_MICE\n",
    "    sheet[\"C\"+str((x+2))]=turns\n",
    "print(f\"Avrage time {sum/number_of_runs} turns!\")\n",
    "# Го зачувуваме Ексел фајлот\n",
    "wb.save(\"primer.xlsx\")"
   ],
   "id": "4b5d381519fe931a"
  },
  {
   "metadata": {},
   "cell_type": "markdown",
   "source": [
    "## Останато\n",
    "\n",
    "Линкови до користени ресурси\n",
    "- [PyGame](https://www.pygame.org/docs/)\n",
    "- [Pathfinding](https://www.youtube.com/watch?v=JtiK0DOeI4A&t=1700s)\n",
    "- [OpenPyxl](https://www.geeksforgeeks.org/introduction-to-python-openpyxl/)\n",
    "\n",
    "Следното е граф од потребно време за 3 мачки до фата n глувци, каде секое време е просек од 100 симулацији"
   ],
   "id": "2c4035b3af40afdb"
  },
  {
   "metadata": {},
   "cell_type": "markdown",
   "source": "![Alt Text](Cat-Mouse.png)",
   "id": "10c60f363212565e"
  }
 ],
 "metadata": {
  "kernelspec": {
   "display_name": "Python 3",
   "language": "python",
   "name": "python3"
  },
  "language_info": {
   "codemirror_mode": {
    "name": "ipython",
    "version": 2
   },
   "file_extension": ".py",
   "mimetype": "text/x-python",
   "name": "python",
   "nbconvert_exporter": "python",
   "pygments_lexer": "ipython2",
   "version": "2.7.6"
  }
 },
 "nbformat": 4,
 "nbformat_minor": 5
}
