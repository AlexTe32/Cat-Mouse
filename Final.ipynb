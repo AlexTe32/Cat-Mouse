{
 "cells": [
  {
   "metadata": {},
   "cell_type": "markdown",
   "source": "",
   "id": "be22effaaf8640c6"
  },
  {
   "metadata": {
    "ExecuteTime": {
     "end_time": "2025-05-06T08:24:00.361927Z",
     "start_time": "2025-05-06T08:23:45.766155Z"
    }
   },
   "cell_type": "code",
   "source": [
    "from Simulation import run_simulation\n",
    "\n",
    "NUM_CATS=3\n",
    "NUM_MICE=3\n",
    "\n",
    "run_simulation(N=56, P=56, num_cats=NUM_CATS, num_mice=NUM_MICE, num_obstacles=155, wait_time=1)\n"
   ],
   "id": "dd2a7f6d27f9f31b",
   "outputs": [
    {
     "data": {
      "text/plain": [
       "130"
      ]
     },
     "execution_count": 2,
     "metadata": {},
     "output_type": "execute_result"
    }
   ],
   "execution_count": 2
  },
  {
   "metadata": {},
   "cell_type": "markdown",
   "source": "",
   "id": "766423c4e84bfea7"
  },
  {
   "metadata": {
    "ExecuteTime": {
     "end_time": "2025-05-06T08:29:35.860077Z",
     "start_time": "2025-05-06T08:26:55.262301Z"
    }
   },
   "cell_type": "code",
   "source": [
    "from Simulation import run_simulation\n",
    "\n",
    "NUM_CATS=3\n",
    "NUM_MICE=3\n",
    "\n",
    "number_of_runs=10\n",
    "sum_of_turns=0\n",
    "for x in range(number_of_runs):\n",
    "    turns=run_simulation(N=56, P=56, num_cats=NUM_CATS, num_mice=NUM_MICE, num_obstacles=155, wait_time=0)\n",
    "    sum_of_turns += turns\n",
    "    print(f\"run {x} time in seconds {turns}\")\n",
    "print(f\"Avrage time {sum_of_turns / number_of_runs}\")"
   ],
   "id": "ad9679719178dea0",
   "outputs": [
    {
     "name": "stdout",
     "output_type": "stream",
     "text": [
      "run 0 time in seconds 186\n",
      "run 1 time in seconds 94\n",
      "run 2 time in seconds 145\n",
      "run 3 time in seconds 94\n",
      "run 4 time in seconds 178\n",
      "run 5 time in seconds 159\n",
      "run 6 time in seconds 217\n",
      "run 7 time in seconds 105\n",
      "run 8 time in seconds 181\n",
      "run 9 time in seconds 133\n",
      "Avrage time 149.2\n"
     ]
    }
   ],
   "execution_count": 3
  },
  {
   "metadata": {},
   "cell_type": "markdown",
   "source": "",
   "id": "d76cc21257601e04"
  },
  {
   "metadata": {
    "ExecuteTime": {
     "end_time": "2025-05-06T08:32:54.159890Z",
     "start_time": "2025-05-06T08:30:46.697599Z"
    }
   },
   "cell_type": "code",
   "source": [
    "from Simulation import run_simulation\n",
    "\n",
    "NUM_CATS=3\n",
    "NUM_MICE=100\n",
    "\n",
    "run_simulation(N=56, P=56, num_cats=NUM_CATS, num_mice=NUM_MICE, num_obstacles=155, wait_time=0)\n"
   ],
   "id": "455de2879bcd3734",
   "outputs": [
    {
     "data": {
      "text/plain": [
       "1220"
      ]
     },
     "execution_count": 4,
     "metadata": {},
     "output_type": "execute_result"
    }
   ],
   "execution_count": 4
  },
  {
   "metadata": {},
   "cell_type": "markdown",
   "source": "",
   "id": "133bc47dc3502378"
  },
  {
   "metadata": {
    "jupyter": {
     "is_executing": true
    },
    "ExecuteTime": {
     "start_time": "2025-05-06T08:34:07.564927Z"
    }
   },
   "cell_type": "code",
   "source": [
    "from Simulation import run_simulation\n",
    "\n",
    "NUM_CATS=3\n",
    "NUM_MICE=100\n",
    "\n",
    "number_of_runs=10\n",
    "sum_of_turns=0\n",
    "for x in range(number_of_runs):\n",
    "    turns=run_simulation(N=56, P=56, num_cats=NUM_CATS, num_mice=NUM_MICE, num_obstacles=155, wait_time=0)\n",
    "    sum_of_turns += turns\n",
    "    print(f\"run {x} time in seconds {turns}\")\n",
    "print(f\"Avrage time {sum_of_turns / number_of_runs}\")"
   ],
   "id": "ded4feca13c850a",
   "outputs": [],
   "execution_count": null
  }
 ],
 "metadata": {
  "kernelspec": {
   "display_name": "Python 3",
   "language": "python",
   "name": "python3"
  },
  "language_info": {
   "codemirror_mode": {
    "name": "ipython",
    "version": 2
   },
   "file_extension": ".py",
   "mimetype": "text/x-python",
   "name": "python",
   "nbconvert_exporter": "python",
   "pygments_lexer": "ipython2",
   "version": "2.7.6"
  }
 },
 "nbformat": 4,
 "nbformat_minor": 5
}
