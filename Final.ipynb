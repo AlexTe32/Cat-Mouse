{
 "cells": [
  {
   "metadata": {},
   "cell_type": "markdown",
   "source": [
    "# Cat & Mouse\n",
    "\n",
    "### Q: 3 мачки фаќаат 3 глувци за 3 мин. За колку време ќе се фатат 100 глувци?\n",
    "\n",
    "Ова прашњае на прв поглед изгледа лесно и користјчи алгебра моземе да стигнеме до одговор од 100 мин.\n",
    "Но прашањето е дали преку симулација можеме да го докжеме тоа?\n",
    "\n",
    "Некој услови за ова симулација ни се:\n",
    "- NxP праваголно поле\n",
    "- Секое животно фаќа една ќелија\n",
    "- Иницијално случајно распоредени\n",
    "- Едно движење трае една секунда\n",
    "- Дефиниција на фаќање – мачка и глушец во иста ќелија\n",
    "\n",
    "Спорд овје ограницуванја ние треба да создадеме симулација каде 3 мачки фаќаат 3 глувци за 3 мин.\n",
    "Потребно е да ги подесиме цледните параметри за да го добиеме посакуваниот резултат:\n",
    "- N и P\n",
    "- Брзина на глувци\n",
    "- Брзина на мачки\n",
    "- Стратегии за фаќање глувци\n",
    "- Стратегии за бегање од мачки\n",
    "\n",
    "Најтешкиот дел за програмирање и подоцна менување се стратегиите, така да:\n",
    "- Глувците немат стратегија и се двизат случајно\n",
    "- Додека мачките секогаш го бркат најблискиот глушец\n",
    "(Ова е вака затаоа како студенти од прва година не баш добро се разбираме во алгоритми)\n",
    "\n",
    "Што значи ни престанува:\n",
    "- Голеемина\n",
    "- Брзина на глувци\n",
    "- Брзиан на Мачки\n",
    "\n",
    "За глувците да имат шанси потребно е мацките да бидат поспори од нив.\n",
    "Во овој случај Брзина на Глушец = 3 * Брзиан на Мачка\n",
    "(Од току зависи и големинта што после ќе ни биде потрбна)\n",
    "\n",
    "Потоа прку изпробување моземе да ја најеџме потребната големина.\n",
    "Во овој слуачај 56\n",
    "\n"
   ],
   "id": "be22effaaf8640c6"
  },
  {
   "metadata": {},
   "cell_type": "code",
   "source": [
    "from Simulation import run_simulation\n",
    "\n",
    "NUM_CATS=3\n",
    "NUM_MICE=3\n",
    "\n",
    "run_simulation(N=56, P=56, num_cats=NUM_CATS, num_mice=NUM_MICE, num_obstacles=155, wait_time=1)\n"
   ],
   "id": "dd2a7f6d27f9f31b",
   "outputs": [],
   "execution_count": null
  },
  {
   "metadata": {},
   "cell_type": "markdown",
   "source": [
    "Поради случајната расподелба на мачки и глувци неможеме да добиеме конкретни резулати поради големата варијација.\n",
    "Затоа можеме да извршиме поголем број на симулација и да го земеме просечното време"
   ],
   "id": "766423c4e84bfea7"
  },
  {
   "metadata": {},
   "cell_type": "code",
   "source": [
    "from Simulation import run_simulation\n",
    "\n",
    "NUM_CATS=3\n",
    "NUM_MICE=3\n",
    "\n",
    "number_of_runs=10\n",
    "sum_of_turns=0\n",
    "for x in range(number_of_runs):\n",
    "    turns=run_simulation(N=56, P=56, num_cats=NUM_CATS, num_mice=NUM_MICE, num_obstacles=155, wait_time=0)\n",
    "    sum_of_turns += turns\n",
    "    print(f\"run {x} time in seconds {turns}\")\n",
    "print(f\"Avrage time {sum_of_turns / number_of_runs}\")"
   ],
   "id": "ad9679719178dea0",
   "outputs": [],
   "execution_count": null
  },
  {
   "metadata": {},
   "cell_type": "markdown",
   "source": [
    "Со изработка на 10000 симулација и наочање на нивниот просек добиваме резултат од 184 секунди ли 3 мин и 4 сек.\n",
    "[Резулатаи од 3 Мачки и 3 Глувци](3-cats-3-mice.pdf)\n",
    "\n",
    "\n",
    "Откако знаме дека нашата калибрација е во корисна состојба може да ранаме симулација со 100 глувци."
   ],
   "id": "d76cc21257601e04"
  },
  {
   "metadata": {
    "jupyter": {
     "is_executing": true
    }
   },
   "cell_type": "code",
   "source": [
    "from Simulation import run_simulation\n",
    "\n",
    "NUM_CATS=3\n",
    "NUM_MICE=100\n",
    "\n",
    "run_simulation(N=56, P=56, num_cats=NUM_CATS, num_mice=NUM_MICE, num_obstacles=155, wait_time=0)\n"
   ],
   "id": "455de2879bcd3734",
   "outputs": [],
   "execution_count": null
  },
  {
   "metadata": {},
   "cell_type": "markdown",
   "source": [
    "Исто како кај случајот со 3 глувци треба да ја извршиме симулацијата голема број на пати.\n",
    "Во овој слуцај добиваме дека резултато е приближно 1389 секунди или 23 мин и 9 сек.\n",
    "[Резулатаи од 3 Мачки и 100 Глувци](3-cats-100-mice.pdf)"
   ],
   "id": "133bc47dc3502378"
  },
  {
   "metadata": {},
   "cell_type": "code",
   "source": [
    "from Simulation import run_simulation\n",
    "\n",
    "NUM_CATS=3\n",
    "NUM_MICE=100\n",
    "\n",
    "number_of_runs=10\n",
    "sum_of_turns=0\n",
    "for x in range(number_of_runs):\n",
    "    turns=run_simulation(N=56, P=56, num_cats=NUM_CATS, num_mice=NUM_MICE, num_obstacles=155, wait_time=0)\n",
    "    sum_of_turns += turns\n",
    "    print(f\"run {x} time in seconds {turns}\")\n",
    "print(f\"Avrage time {sum_of_turns / number_of_runs}\")"
   ],
   "id": "ded4feca13c850a",
   "outputs": [],
   "execution_count": null
  },
  {
   "metadata": {},
   "cell_type": "markdown",
   "source": "",
   "id": "10c60f363212565e"
  }
 ],
 "metadata": {
  "kernelspec": {
   "display_name": "Python 3",
   "language": "python",
   "name": "python3"
  },
  "language_info": {
   "codemirror_mode": {
    "name": "ipython",
    "version": 2
   },
   "file_extension": ".py",
   "mimetype": "text/x-python",
   "name": "python",
   "nbconvert_exporter": "python",
   "pygments_lexer": "ipython2",
   "version": "2.7.6"
  }
 },
 "nbformat": 4,
 "nbformat_minor": 5
}
